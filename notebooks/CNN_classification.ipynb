{
 "cells": [
  {
   "cell_type": "code",
   "execution_count": 1,
   "metadata": {
    "collapsed": true
   },
   "outputs": [],
   "source": [
    "import pandas as pd\n",
    "import numpy as np\n",
    "import cv2 \n",
    "import matplotlib.pyplot as plt\n",
    "import os\n",
    "import sys\n",
    "\n",
    "sys.path.append('../source/')\n",
    "\n",
    "from learn import CNN_Classifier\n",
    "from preprocessing import augment_data_set\n",
    "\n",
    "%matplotlib inline"
   ]
  },
  {
   "cell_type": "code",
   "execution_count": 2,
   "metadata": {
    "collapsed": false
   },
   "outputs": [],
   "source": [
    "path = \"../data/\"\n",
    "\n",
    "data_train = pd.read_csv(os.path.join(path, \"train.csv\"))\n",
    "data_train = data_train.set_index([\"id\"], drop=True)\n",
    "\n",
    "data_test = pd.read_csv(os.path.join(path, \"test.csv\"))\n",
    "data_test = data_test.set_index([\"id\"], drop=True)\n",
    "\n",
    "dir_path = \"../data/images/\"\n",
    "files =  os.listdir(dir_path)\n"
   ]
  },
  {
   "cell_type": "code",
   "execution_count": 15,
   "metadata": {
    "collapsed": false
   },
   "outputs": [],
   "source": [
    "X_images, X_features, y = augment_data_set(files, data_train, 20, 0.9, 0.9, shuffle=True, IMAGE_DIM=140)"
   ]
  },
  {
   "cell_type": "code",
   "execution_count": null,
   "metadata": {
    "collapsed": false
   },
   "outputs": [
    {
     "name": "stdout",
     "output_type": "stream",
     "text": [
      "Minibatch loss value at step 1: 34.18\n",
      "Minibatch accuracy: 0.0%\n"
     ]
    }
   ],
   "source": [
    "structure = [{\"type\": \"conv\", \"params\" : {\"patch_x\": 10, \"patch_y\": 10, \"depth\": 32, \"channels\": 1}},\n",
    "                 {\"type\" : \"pool\", \"params\": {\"side\": 2, \"stride\": 2, \"pad\": \"SAME\"}},\n",
    "                 {\"type\" : \"conv\", \"params\" : {\"patch_x\": 6, \"patch_y\": 6, \"depth\": 32, \"channels\": 32}},\n",
    "                 {\"type\" : \"pool\", \"params\": {\"side\": 2, \"stride\": 2, \"pad\": \"SAME\"}}]\n",
    "\n",
    "classifier = CNN_Classifier(structure=structure, nb_classes=99, img_rows=140, img_cols=140, nb_hidden=1024, \n",
    "                           nb_features=192)\n",
    "classifier.fit({\"image\": X_images, \"features\": X_features}, y, batch_size=64, nb_epochs=1000, logging_info=20)"
   ]
  },
  {
   "cell_type": "code",
   "execution_count": 11,
   "metadata": {
    "collapsed": false
   },
   "outputs": [
    {
     "data": {
      "text/plain": [
       "numpy.int64"
      ]
     },
     "execution_count": 11,
     "metadata": {},
     "output_type": "execute_result"
    }
   ],
   "source": [
    "type(y[0][1])"
   ]
  },
  {
   "cell_type": "code",
   "execution_count": null,
   "metadata": {
    "collapsed": true
   },
   "outputs": [],
   "source": []
  }
 ],
 "metadata": {
  "kernelspec": {
   "display_name": "Python [Root]",
   "language": "python",
   "name": "Python [Root]"
  },
  "language_info": {
   "codemirror_mode": {
    "name": "ipython",
    "version": 2
   },
   "file_extension": ".py",
   "mimetype": "text/x-python",
   "name": "python",
   "nbconvert_exporter": "python",
   "pygments_lexer": "ipython2",
   "version": "2.7.12"
  }
 },
 "nbformat": 4,
 "nbformat_minor": 0
}
