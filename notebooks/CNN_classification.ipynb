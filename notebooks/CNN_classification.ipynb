{
 "cells": [
  {
   "cell_type": "code",
   "execution_count": 1,
   "metadata": {
    "collapsed": true
   },
   "outputs": [],
   "source": [
    "import pandas as pd\n",
    "import numpy as np\n",
    "import cv2 \n",
    "import matplotlib.pyplot as plt\n",
    "import os\n",
    "import sys\n",
    "\n",
    "sys.path.append('../source/')\n",
    "\n",
    "from learn import CNN_Classifier\n",
    "from preprocessing import augment_data_set\n",
    "\n",
    "%matplotlib inline"
   ]
  },
  {
   "cell_type": "code",
   "execution_count": 2,
   "metadata": {
    "collapsed": false
   },
   "outputs": [],
   "source": [
    "path = \"../data/\"\n",
    "\n",
    "data_train = pd.read_csv(os.path.join(path, \"train.csv\"))\n",
    "data_train = data_train.set_index([\"id\"], drop=True)\n",
    "\n",
    "data_test = pd.read_csv(os.path.join(path, \"test.csv\"))\n",
    "data_test = data_test.set_index([\"id\"], drop=True)\n",
    "\n",
    "dir_path = \"../data/images/\"\n",
    "files =  os.listdir(dir_path)"
   ]
  },
  {
   "cell_type": "code",
   "execution_count": 3,
   "metadata": {
    "collapsed": false
   },
   "outputs": [],
   "source": [
    "X_images, X_features, y = augment_data_set(files, data_train, 5, 0.9, 0.9, shuffle=True, IMAGE_DIM=200)"
   ]
  },
  {
   "cell_type": "code",
   "execution_count": 4,
   "metadata": {
    "collapsed": false
   },
   "outputs": [
    {
     "name": "stdout",
     "output_type": "stream",
     "text": [
      "Minibatch loss value at step 1: 75.90\n",
      "Minibatch accuracy: 1.6%\n",
      "Minibatch loss value at step 21: 4.78\n",
      "Minibatch accuracy: 1.6%\n",
      "Minibatch loss value at step 41: 4.67\n",
      "Minibatch accuracy: 1.6%\n",
      "Minibatch loss value at step 61: 4.63\n",
      "Minibatch accuracy: 0.0%\n",
      "Minibatch loss value at step 81: 4.53\n",
      "Minibatch accuracy: 6.2%\n",
      "Minibatch loss value at step 101: 4.50\n",
      "Minibatch accuracy: 7.8%\n",
      "Minibatch loss value at step 121: 4.53\n",
      "Minibatch accuracy: 9.4%\n",
      "Minibatch loss value at step 141: 4.46\n",
      "Minibatch accuracy: 18.8%\n",
      "Minibatch loss value at step 161: 4.42\n",
      "Minibatch accuracy: 20.3%\n",
      "Minibatch loss value at step 181: 4.45\n",
      "Minibatch accuracy: 10.9%\n",
      "Minibatch loss value at step 201: 4.40\n",
      "Minibatch accuracy: 29.7%\n",
      "Minibatch loss value at step 221: 4.44\n",
      "Minibatch accuracy: 18.8%\n",
      "Minibatch loss value at step 241: 4.39\n",
      "Minibatch accuracy: 28.1%\n",
      "Minibatch loss value at step 261: 4.31\n",
      "Minibatch accuracy: 32.8%\n",
      "Minibatch loss value at step 281: 4.26\n",
      "Minibatch accuracy: 34.4%\n",
      "Minibatch loss value at step 301: 4.40\n",
      "Minibatch accuracy: 26.6%\n",
      "Minibatch loss value at step 321: 4.27\n",
      "Minibatch accuracy: 23.4%\n",
      "Minibatch loss value at step 341: 4.21\n",
      "Minibatch accuracy: 39.1%\n",
      "Minibatch loss value at step 361: 4.26\n",
      "Minibatch accuracy: 37.5%\n",
      "Minibatch loss value at step 381: 4.28\n",
      "Minibatch accuracy: 31.2%\n",
      "Minibatch loss value at step 401: 4.08\n",
      "Minibatch accuracy: 39.1%\n",
      "Minibatch loss value at step 421: 4.15\n",
      "Minibatch accuracy: 35.9%\n",
      "Minibatch loss value at step 441: 4.10\n",
      "Minibatch accuracy: 42.2%\n",
      "Minibatch loss value at step 461: 4.23\n",
      "Minibatch accuracy: 35.9%\n",
      "Minibatch loss value at step 481: 4.12\n",
      "Minibatch accuracy: 45.3%\n",
      "Minibatch loss value at step 501: 4.10\n",
      "Minibatch accuracy: 48.4%\n",
      "Minibatch loss value at step 521: 4.03\n",
      "Minibatch accuracy: 54.7%\n",
      "Minibatch loss value at step 541: 4.06\n",
      "Minibatch accuracy: 39.1%\n",
      "Minibatch loss value at step 561: 4.07\n",
      "Minibatch accuracy: 53.1%\n",
      "Minibatch loss value at step 581: 3.93\n",
      "Minibatch accuracy: 45.3%\n",
      "Minibatch loss value at step 601: 4.07\n",
      "Minibatch accuracy: 34.4%\n",
      "Minibatch loss value at step 621: 3.93\n",
      "Minibatch accuracy: 57.8%\n",
      "Minibatch loss value at step 641: 3.96\n",
      "Minibatch accuracy: 50.0%\n",
      "Minibatch loss value at step 661: 3.83\n",
      "Minibatch accuracy: 59.4%\n",
      "Minibatch loss value at step 681: 4.02\n",
      "Minibatch accuracy: 46.9%\n",
      "Minibatch loss value at step 701: 3.86\n",
      "Minibatch accuracy: 54.7%\n",
      "Minibatch loss value at step 721: 3.82\n",
      "Minibatch accuracy: 60.9%\n",
      "Minibatch loss value at step 741: 3.85\n",
      "Minibatch accuracy: 53.1%\n",
      "Minibatch loss value at step 761: 3.82\n",
      "Minibatch accuracy: 35.9%\n",
      "Minibatch loss value at step 781: 3.74\n",
      "Minibatch accuracy: 53.1%\n",
      "Minibatch loss value at step 801: 3.86\n",
      "Minibatch accuracy: 46.9%\n",
      "Minibatch loss value at step 821: 3.69\n",
      "Minibatch accuracy: 56.2%\n",
      "Minibatch loss value at step 841: 3.74\n",
      "Minibatch accuracy: 53.1%\n",
      "Minibatch loss value at step 861: 3.76\n",
      "Minibatch accuracy: 60.9%\n",
      "Minibatch loss value at step 881: 3.50\n",
      "Minibatch accuracy: 62.5%\n",
      "Minibatch loss value at step 901: 3.60\n",
      "Minibatch accuracy: 60.9%\n",
      "Minibatch loss value at step 921: 3.45\n",
      "Minibatch accuracy: 53.1%\n",
      "Minibatch loss value at step 941: 3.53\n",
      "Minibatch accuracy: 75.0%\n",
      "Minibatch loss value at step 961: 3.59\n",
      "Minibatch accuracy: 71.9%\n",
      "Minibatch loss value at step 981: 3.41\n",
      "Minibatch accuracy: 57.8%\n"
     ]
    }
   ],
   "source": [
    "structure = [{\"type\": \"conv\", \"params\" : {\"patch_x\": 10, \"patch_y\": 10, \"depth\": 64, \"channels\": 1}},\n",
    "                 {\"type\" : \"pool\", \"params\": {\"side\": 2, \"stride\": 2, \"pad\": \"SAME\"}},\n",
    "                 {\"type\" : \"conv\", \"params\" : {\"patch_x\": 6, \"patch_y\": 6, \"depth\": 32, \"channels\": 64}},\n",
    "                 {\"type\" : \"pool\", \"params\": {\"side\": 2, \"stride\": 2, \"pad\": \"SAME\"}},\n",
    "            {\"type\" : \"dense\", \"params\" : {\"n_input\": 2500*32 , \"n_neurons\": 500}}]\n",
    "\n",
    "classifier = CNN_Classifier(structure=structure, nb_classes=99, img_rows=200, img_cols=200, nb_hidden=(1024,), \n",
    "                           nb_features=192)\n",
    "classifier.fit({\"image\": X_images, \"features\": X_features}, y, batch_size=64, nb_epochs=1000, logging_info=20)"
   ]
  },
  {
   "cell_type": "code",
   "execution_count": 11,
   "metadata": {
    "collapsed": false
   },
   "outputs": [
    {
     "data": {
      "text/plain": [
       "numpy.int64"
      ]
     },
     "execution_count": 11,
     "metadata": {},
     "output_type": "execute_result"
    }
   ],
   "source": [
    "type(y[0][1])"
   ]
  },
  {
   "cell_type": "code",
   "execution_count": null,
   "metadata": {
    "collapsed": true
   },
   "outputs": [],
   "source": []
  }
 ],
 "metadata": {
  "kernelspec": {
   "display_name": "Python [Root]",
   "language": "python",
   "name": "Python [Root]"
  },
  "language_info": {
   "codemirror_mode": {
    "name": "ipython",
    "version": 2
   },
   "file_extension": ".py",
   "mimetype": "text/x-python",
   "name": "python",
   "nbconvert_exporter": "python",
   "pygments_lexer": "ipython2",
   "version": "2.7.12"
  }
 },
 "nbformat": 4,
 "nbformat_minor": 0
}
